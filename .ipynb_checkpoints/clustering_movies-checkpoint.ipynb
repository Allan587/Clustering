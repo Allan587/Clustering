{
 "cells": [
  {
   "cell_type": "code",
   "execution_count": 27,
   "id": "004a2ffd-0464-4fa4-806b-a022d0b62db8",
   "metadata": {},
   "outputs": [],
   "source": [
    "import numpy as np\n",
    "import pandas as pd\n",
    "import matplotlib.pyplot as plt\n",
    "from sklearn.cluster import KMeans\n",
    "\n",
    "%matplotlib inline"
   ]
  },
  {
   "cell_type": "code",
   "execution_count": 29,
   "id": "84380057-1935-4811-bebd-8f8051b58fd9",
   "metadata": {},
   "outputs": [],
   "source": [
    "movies = pd.read_csv('C:/Users/allan/src/projects/clustering/top_rated_movies.csv', engine='python')"
   ]
  },
  {
   "cell_type": "code",
   "execution_count": 31,
   "id": "0d9b2510-85c7-4f1d-99cf-91584911d8f8",
   "metadata": {},
   "outputs": [
    {
     "name": "stdout",
     "output_type": "stream",
     "text": [
      "<class 'pandas.core.frame.DataFrame'>\n",
      "RangeIndex: 9630 entries, 0 to 9629\n",
      "Data columns (total 10 columns):\n",
      " #   Column             Non-Null Count  Dtype  \n",
      "---  ------             --------------  -----  \n",
      " 0   id                 9630 non-null   int64  \n",
      " 1   title              9630 non-null   object \n",
      " 2   original_language  9630 non-null   object \n",
      " 3   release_date       9630 non-null   object \n",
      " 4   vote_average       9630 non-null   float64\n",
      " 5   vote_count         9630 non-null   int64  \n",
      " 6   popularity         9630 non-null   float64\n",
      " 7   overview           9630 non-null   object \n",
      " 8   genre_ids          9630 non-null   object \n",
      " 9   Genres             9630 non-null   object \n",
      "dtypes: float64(2), int64(2), object(6)\n",
      "memory usage: 752.5+ KB\n"
     ]
    }
   ],
   "source": [
    "movies.info()"
   ]
  },
  {
   "cell_type": "code",
   "execution_count": 41,
   "id": "d824f06b-7dfe-4d1e-853e-76dc1fb19ea4",
   "metadata": {},
   "outputs": [
    {
     "data": {
      "text/html": [
       "<div>\n",
       "<style scoped>\n",
       "    .dataframe tbody tr th:only-of-type {\n",
       "        vertical-align: middle;\n",
       "    }\n",
       "\n",
       "    .dataframe tbody tr th {\n",
       "        vertical-align: top;\n",
       "    }\n",
       "\n",
       "    .dataframe thead th {\n",
       "        text-align: right;\n",
       "    }\n",
       "</style>\n",
       "<table border=\"1\" class=\"dataframe\">\n",
       "  <thead>\n",
       "    <tr style=\"text-align: right;\">\n",
       "      <th></th>\n",
       "      <th>id</th>\n",
       "      <th>title</th>\n",
       "      <th>original_language</th>\n",
       "      <th>release_date</th>\n",
       "      <th>vote_average</th>\n",
       "      <th>vote_count</th>\n",
       "      <th>popularity</th>\n",
       "      <th>Genres</th>\n",
       "    </tr>\n",
       "  </thead>\n",
       "  <tbody>\n",
       "    <tr>\n",
       "      <th>0</th>\n",
       "      <td>278</td>\n",
       "      <td>The Shawshank Redemption</td>\n",
       "      <td>en</td>\n",
       "      <td>1994-09-23</td>\n",
       "      <td>8.706</td>\n",
       "      <td>26840</td>\n",
       "      <td>150.307</td>\n",
       "      <td>['Drama', 'Crime']</td>\n",
       "    </tr>\n",
       "    <tr>\n",
       "      <th>1</th>\n",
       "      <td>238</td>\n",
       "      <td>The Godfather</td>\n",
       "      <td>en</td>\n",
       "      <td>1972-03-14</td>\n",
       "      <td>8.690</td>\n",
       "      <td>20373</td>\n",
       "      <td>122.973</td>\n",
       "      <td>['Drama', 'Crime']</td>\n",
       "    </tr>\n",
       "    <tr>\n",
       "      <th>2</th>\n",
       "      <td>240</td>\n",
       "      <td>The Godfather Part II</td>\n",
       "      <td>en</td>\n",
       "      <td>1974-12-20</td>\n",
       "      <td>8.575</td>\n",
       "      <td>12291</td>\n",
       "      <td>94.204</td>\n",
       "      <td>['Drama', 'Crime']</td>\n",
       "    </tr>\n",
       "    <tr>\n",
       "      <th>3</th>\n",
       "      <td>424</td>\n",
       "      <td>Schindler's List</td>\n",
       "      <td>en</td>\n",
       "      <td>1993-12-15</td>\n",
       "      <td>8.565</td>\n",
       "      <td>15695</td>\n",
       "      <td>74.615</td>\n",
       "      <td>['Drama', 'History', 'War']</td>\n",
       "    </tr>\n",
       "    <tr>\n",
       "      <th>4</th>\n",
       "      <td>389</td>\n",
       "      <td>12 Angry Men</td>\n",
       "      <td>en</td>\n",
       "      <td>1957-04-10</td>\n",
       "      <td>8.546</td>\n",
       "      <td>8522</td>\n",
       "      <td>54.678</td>\n",
       "      <td>['Drama']</td>\n",
       "    </tr>\n",
       "  </tbody>\n",
       "</table>\n",
       "</div>"
      ],
      "text/plain": [
       "    id                     title original_language release_date  vote_average  \\\n",
       "0  278  The Shawshank Redemption                en   1994-09-23         8.706   \n",
       "1  238             The Godfather                en   1972-03-14         8.690   \n",
       "2  240     The Godfather Part II                en   1974-12-20         8.575   \n",
       "3  424          Schindler's List                en   1993-12-15         8.565   \n",
       "4  389              12 Angry Men                en   1957-04-10         8.546   \n",
       "\n",
       "   vote_count  popularity                       Genres  \n",
       "0       26840     150.307           ['Drama', 'Crime']  \n",
       "1       20373     122.973           ['Drama', 'Crime']  \n",
       "2       12291      94.204           ['Drama', 'Crime']  \n",
       "3       15695      74.615  ['Drama', 'History', 'War']  \n",
       "4        8522      54.678                    ['Drama']  "
      ]
     },
     "execution_count": 41,
     "metadata": {},
     "output_type": "execute_result"
    }
   ],
   "source": [
    "movies_df = pd.DataFrame(movies)\n",
    "movies_df = movies_df.drop(columns=['overview', 'genre_ids'])\n",
    "movies_df.head()"
   ]
  },
  {
   "cell_type": "code",
   "execution_count": null,
   "id": "407935ac-d659-423d-9041-0b215a29d212",
   "metadata": {},
   "outputs": [],
   "source": []
  }
 ],
 "metadata": {
  "kernelspec": {
   "display_name": "Python 3 (ipykernel)",
   "language": "python",
   "name": "python3"
  },
  "language_info": {
   "codemirror_mode": {
    "name": "ipython",
    "version": 3
   },
   "file_extension": ".py",
   "mimetype": "text/x-python",
   "name": "python",
   "nbconvert_exporter": "python",
   "pygments_lexer": "ipython3",
   "version": "3.12.4"
  }
 },
 "nbformat": 4,
 "nbformat_minor": 5
}
